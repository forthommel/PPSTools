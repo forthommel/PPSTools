{
 "cells": [
  {
   "cell_type": "markdown",
   "id": "1023d615",
   "metadata": {
    "scrolled": true
   },
   "source": [
    "# Proton tagging rate\n",
    "\n",
    "This notebook is used to define a statistical model to estimate the proton tagging rate.\n"
   ]
  },
  {
   "cell_type": "code",
   "execution_count": 17,
   "id": "aed29ec3",
   "metadata": {},
   "outputs": [],
   "source": [
    "import matplotlib.pyplot as plt\n",
    "import numpy as np\n",
    "from scipy.stats import poisson, binom\n",
    "from numpy import random\n",
    "import mplhep as hep\n",
    "import pandas as pd\n",
    "import uproot\n",
    "import uproot3 as up3\n",
    "import timeit\n",
    "import seaborn as sns\n",
    "from tqdm import tqdm\n",
    "import math\n",
    "from scipy.special import comb"
   ]
  },
  {
   "cell_type": "markdown",
   "id": "8c8ef76e",
   "metadata": {},
   "source": [
    "### Event  model\n",
    "\n",
    "The following model is defined to generate events:\n",
    "\n",
    "   * Number of interactions per event follow Poisson statistics with mean value of $\\mu$\n",
    "   * Each interaction has the probability $f_{sd}$ to be diffractive \n",
    "   * **Diffractive interactions**:\n",
    "     * $\\beta$ is the efficiency to tag a proton from the diffractive interation\n",
    "     * $p_{V}^{D}$ is the efficiency to reconstruct vertex from diffrative interaction\n",
    "   * **Non-Diffractive interactions**:\n",
    "     * no proton is generated\n",
    "     * $p_{V}^{ND}$ is the efficiency to reconstruct vertex from diffrative interaction\n",
    "   * Hard events can be diffractive or non-diffractive, with diffraction fraction $R_{SD}$ and proton efficiency $\\varepsilon_S$\n",
    "     \n",
    "The following function is used to generate events following the definitions above:\n",
    "```python\n",
    "\n",
    "def GenerateDataset(Nevents, mu, fSD, pV_ND, pV_D, beta, es, Rsd):\n",
    "\n",
    "```\n",
    "with `mu`=$\\mu$,    `fSD`=$f_{sd}$,    `pV_ND`=$p_{V}^{ND}$,    `pV_D`=$p_{V}^{D}$ and    `beta`=$\\beta$, `es`=$\\varepsilon_{S}$, `Rsd`=$R_{SD}$"
   ]
  },
  {
   "cell_type": "code",
   "execution_count": 6,
   "id": "f071bf5e",
   "metadata": {},
   "outputs": [],
   "source": [
    "def GenerateDataset(Nevents, mu, fSD=0.3, pV_ND = 0.9, pV_D = 0.6, beta = 0.05, es=0.06, Rsd=0.1):\n",
    "    start = timeit.default_timer()\n",
    "    nVtx=np.zeros(Nevents, dtype=np.uint32)\n",
    "    nProtons=np.zeros(Nevents, dtype=np.uint32)\n",
    "    nP0=np.zeros(Nevents, dtype=np.uint32)\n",
    "    nP1=np.zeros(Nevents, dtype=np.uint32)\n",
    "    nP2=np.zeros(Nevents, dtype=np.uint32)\n",
    "    nP3=np.zeros(Nevents, dtype=np.uint32)\n",
    "    nP4=np.zeros(Nevents, dtype=np.uint32)\n",
    "    Nint = random.poisson(mu,Nevents);\n",
    "\n",
    "    for i in tqdm(range(Nevents)): #loop over all events\n",
    "        random_numbers = random.rand(Nint[i]*4+2)\n",
    "        \n",
    "        #check event type and if signal add a proton:\n",
    "        if random_numbers[Nint[i]*4+0] < Rsd:\n",
    "            #proton from signal event is detected\n",
    "            if random_numbers[Nint[i]*4+1] < es: nProtons[i]+=1\n",
    "                \n",
    "        for j in range(Nint[i]): # loop over all interactions in event\n",
    "            #check collision type:\n",
    "            if random_numbers[4*j+0] > fSD:\n",
    "                #this is a non diffractive event\n",
    "                if random_numbers[4*j+1] < pV_ND: \n",
    "                    nVtx[i]+=1\n",
    "            else:\n",
    "                #this is a diffractive event\n",
    "                if random_numbers[4*j+2] < pV_D: \n",
    "                    nVtx[i]+=1\n",
    "                if random_numbers[4*j+3] < beta: \n",
    "                    nProtons[i]+=1\n",
    "        if nProtons[i]==0: nP0[i]=1\n",
    "        if nProtons[i]==1: nP1[i]=1\n",
    "        if nProtons[i]==2: nP2[i]=1\n",
    "        if nProtons[i]==3: nP3[i]=1\n",
    "        if nProtons[i]==4: nP4[i]=1\n",
    "    stop = timeit.default_timer()\n",
    "    print('probability for PU proton in collision',fSD*beta)\n",
    "    print('probability to form a vertex in collision',fSD*pV_D+(1-fSD)*pV_ND)\n",
    "    print('Time: %2.2fsec for %d events'%(stop - start,Nevents))\n",
    "    d = {'nvtx': nVtx, 'nprotons': nProtons, 'p0': nP0, 'p1': nP1, 'p2': nP2, 'p3': nP3, 'p4': nP4, 'nint': Nint}\n",
    "    return pd.DataFrame(data=d)"
   ]
  },
  {
   "cell_type": "markdown",
   "id": "8b980a9a",
   "metadata": {},
   "source": [
    "# Generation of toys\n",
    "\n",
    "We will generate three different toy models:\n",
    "   * `df1`: vertex reconstruction efficiency is 100%\n",
    "   * `df2`: vertex reconstruction efficiency is <100%,but $p_{V}^{ND}=p_{V}^{D}$\n",
    "   * `df3`: vertex reconstruction efficiency is <100%,and  $p_{V}^{ND}\\neq p_{V}^{D}$\n",
    "   "
   ]
  },
  {
   "cell_type": "code",
   "execution_count": 4,
   "id": "0b1c351d",
   "metadata": {
    "scrolled": true
   },
   "outputs": [],
   "source": [
    "# Generate 10M events with 25% diffractive fraction, and beta=6%\n",
    "N = 10000000; mu = 3; fSD=0.25; beta = 0.06;"
   ]
  },
  {
   "cell_type": "code",
   "execution_count": 7,
   "id": "4930b9b9",
   "metadata": {},
   "outputs": [
    {
     "name": "stderr",
     "output_type": "stream",
     "text": [
      "100%|██████████| 10000000/10000000 [05:41<00:00, 29241.61it/s]\n"
     ]
    },
    {
     "name": "stdout",
     "output_type": "stream",
     "text": [
      "probability for PU proton in collision 0.015\n",
      "probability to form a vertex in collision 1.0\n",
      "Time: 343.04sec for 10000000 events\n"
     ]
    }
   ],
   "source": [
    "pV_ND = 1; pV_D = 1;\n",
    "df1=GenerateDataset(N, mu=mu, fSD = fSD, pV_D = pV_D, pV_ND = pV_ND, beta = beta, Rsd=0)"
   ]
  },
  {
   "cell_type": "code",
   "execution_count": 8,
   "id": "49c1f6c5",
   "metadata": {},
   "outputs": [
    {
     "name": "stderr",
     "output_type": "stream",
     "text": [
      "100%|██████████| 10000000/10000000 [05:04<00:00, 32869.30it/s]\n"
     ]
    },
    {
     "name": "stdout",
     "output_type": "stream",
     "text": [
      "probability for PU proton in collision 0.015\n",
      "probability to form a vertex in collision 0.85\n",
      "Time: 305.05sec for 10000000 events\n"
     ]
    }
   ],
   "source": [
    "pV_ND = 0.85; pV_D = 0.85\n",
    "df2=GenerateDataset(N, mu=mu, fSD = fSD, pV_D = pV_D, pV_ND = pV_ND, beta = beta, Rsd=0)"
   ]
  },
  {
   "cell_type": "code",
   "execution_count": 9,
   "id": "49909c82",
   "metadata": {
    "scrolled": true
   },
   "outputs": [
    {
     "name": "stderr",
     "output_type": "stream",
     "text": [
      "100%|██████████| 10000000/10000000 [04:40<00:00, 35673.01it/s]\n"
     ]
    },
    {
     "name": "stdout",
     "output_type": "stream",
     "text": [
      "probability for PU proton in collision 0.015\n",
      "probability to form a vertex in collision 0.75\n",
      "Time: 281.15sec for 10000000 events\n"
     ]
    }
   ],
   "source": [
    "pV_ND = 8/9; pV_D = 1/3\n",
    "df3=GenerateDataset(N, mu=mu, fSD = fSD, pV_D = pV_D, pV_ND = pV_ND, beta = beta, Rsd=0)"
   ]
  },
  {
   "cell_type": "markdown",
   "id": "ee67cff7",
   "metadata": {},
   "source": [
    "### Model validation plots\n",
    "\n",
    "Plot of vertex multiplicity for the three models"
   ]
  },
  {
   "cell_type": "code",
   "execution_count": 10,
   "id": "e3085e03",
   "metadata": {
    "scrolled": false
   },
   "outputs": [
    {
     "data": {
      "image/png": "[encoded data removed]",
      "text/plain": [
       "<Figure size 504x504 with 1 Axes>"
      ]
     },
     "metadata": {
      "needs_background": "light"
     },
     "output_type": "display_data"
    }
   ],
   "source": [
    "f, ax = plt.subplots(figsize=(7,7))\n",
    "df1['nvtx'].plot.hist(bins=np.linspace(0,10,11), alpha=0.5, ax=ax, label=r'$p_V=$100%');\n",
    "df2['nvtx'].plot.hist(bins=np.linspace(0,10,11), alpha=0.5, ax=ax, label=r'$p_V=$85%');\n",
    "df3['nvtx'].plot.hist(bins=np.linspace(0,10,11), alpha=0.5, ax=ax, label=r'$p^{D}_V \\neq p^{ND}_V$');\n",
    "ax.set_xlabel('Number of vertices', fontsize = 14); ax.set_ylabel('')\n",
    "ax.legend(loc=1, fontsize =16)\n",
    "plt.show()"
   ]
  },
  {
   "cell_type": "markdown",
   "id": "25941572",
   "metadata": {},
   "source": [
    "Proton tagging rate for the three models (profile the dataframes)"
   ]
  },
  {
   "cell_type": "code",
   "execution_count": 11,
   "id": "c5fc738f",
   "metadata": {},
   "outputs": [],
   "source": [
    "#make profiles\n",
    "results=[]\n",
    "for df in [df1, df2, df3]:\n",
    "    binned = df[df['nvtx']<11].groupby('nvtx')\n",
    "    result = binned['p1'].agg(['mean','sem'])\n",
    "    result['x']=np.linspace(0,max(binned.groups.keys()),max(binned.groups.keys())+1)\n",
    "    result['xerr']=0.5\n",
    "    results.append(result)"
   ]
  },
  {
   "cell_type": "code",
   "execution_count": 12,
   "id": "9efdbee1",
   "metadata": {
    "scrolled": false
   },
   "outputs": [
    {
     "data": {
      "image/png": "[encoded data removed]",
      "text/plain": [
       "<Figure size 504x360 with 1 Axes>"
      ]
     },
     "metadata": {
      "needs_background": "light"
     },
     "output_type": "display_data"
    }
   ],
   "source": [
    "#plot profiles\n",
    "f, ax = plt.subplots(figsize=(7,5))\n",
    "results[0].plot(x='x',y='mean',xerr='xerr',yerr='sem',linestyle='none',capsize=0,color='black',label=r'$p_V=$100%',ax=ax)\n",
    "results[1].plot(x='x',y='mean',xerr='xerr',yerr='sem',linestyle='none',capsize=0,color='blue',label=r'$p_V=$85%',ax=ax)\n",
    "results[2].plot(x='x',y='mean',xerr='xerr',yerr='sem',linestyle='none',capsize=0,color='red',label=r'$p^{D}_V \\neq p^{ND}_V$',ax=ax)\n",
    "ax.set(xlabel='Number of vertices', ylabel='proton tag rate of entries')\n",
    "ax.legend(loc=2)\n",
    "plt.show()"
   ]
  },
  {
   "cell_type": "markdown",
   "id": "8e0f9a34",
   "metadata": {},
   "source": [
    "### Saving to ROOT\n",
    "\n",
    "One can save the samples to ROOT n-tuple:"
   ]
  },
  {
   "cell_type": "code",
   "execution_count": 14,
   "id": "1a8792e0",
   "metadata": {},
   "outputs": [],
   "source": [
    "df=df3 #save the third example\n",
    "with up3.recreate(\"toys.root\") as f:\n",
    "    f[\"Events\"] = up3.newtree({\"nvtx\": \"int32\", \"nProtons\": \"int32\", \"nint\": \"int32\"})\n",
    "    f[\"Events\"].extend({\"nvtx\": df['nvtx'], \"nProtons\": df['nprotons'], \"nint\": df['nint']})"
   ]
  },
  {
   "cell_type": "markdown",
   "id": "b9055e83",
   "metadata": {},
   "source": [
    "# Stat model\n",
    "\n",
    "Probability to measure a single proton vs number of additional vertices is given by:\n",
    "$$ P(1|n_{vtx}) = f(n_{vtx}, f_{SD}, \\beta_{D}, p_{V}^{D}, p_{V}^{ND}) $$\n",
    "\n",
    "Where $f_{SD}$ is the fraction of diffractive interactions with $\\beta_{D}$ the tagging proton efficiency from a diffractive interaction, $p_{V}^{D}$ and $p_{V}^{ND}$ are the vertex recontruction efficiency for diffractive or non-diffracgive interaction respectively.  \n",
    "\n",
    "To derive the formula we define a set of orthogonal event selections $(k,k_d)$, where $k$ is the number of additional interactions where $k_d$ and $k-k_d$ are diffractive and non-diffractive respectively. Then the probability can be rewriten as:\n",
    "$$ P(1|n_{vtx}) = P(1 \\text{ and } n_{vtx} ) / P(n_{vtx}) = \\Sigma_{k,k_d} P(1 \\text{ and } n_{vtx} | k,k_d)  P(k,k_d) / P(n_{vtx}) $$\n",
    "\n",
    "Since number of vertices and number of protons depends only on the type of the interactions, then this breakdown insure unconditionality: \n",
    "$$ P(1 \\text{ and } n_{vtx} | k,k_d) = P(1| k,k_d) \\cdot P( n_{vtx} | k,k_d) $$\n",
    "\n",
    "then the probabilty will be of a form of:\n",
    "\n",
    "$$ P(1|n_{vtx}) = \\Sigma_{k,k_d} \\left( P(1| k,k_d) \\cdot P( n_{vtx} | k,k_d) \\right) P(k,k_d) / P(n_{vtx}) $$\n",
    "\n",
    "\n",
    "Let's derive the two expressions, the probability to observe event with $p$ protons:\n",
    "\n",
    "$$ P( p | k,k_d) = \\binom{k_d}{p} \\cdot \\beta_D^{p}\\left( 1 - \\beta_D\\right)^{k_d-p} $$  \n",
    "\n",
    "For $p\\leq k_d$, and in particular for $p=1$:\n",
    "\n",
    "$$ P( 1 | k,k_d) = k_d\\beta_D\\left( 1 - \\beta_D\\right)^{k_d-1}$$  \n",
    "\n",
    "Probability for $k$ interactions with $k_d$ diffractive:\n",
    "\n",
    "$$P(k,k_d) = \\frac{\\mu^k e^{-\\mu}}{k!} \\cdot \\binom{k}{k_d} \\cdot f_D ^ {k_d} \\left( 1- f_D \\right) ^ {k - k_d}$$\n",
    "\n",
    "\n",
    "Probability for number of vertices:\n",
    "$$ P(n_{vtx}) = \\frac{\\left(p_V\\mu\\right)^{n_{vtx}} e^{-p_V\\mu}}{n_{vtx}!} $$ \n",
    "\n",
    "When $p_V^{ND} = p_V^{D} = p_V $ we obtain:\n",
    "\n",
    "$$ P(1|n_{vtx}) = f_{SD}\\beta \\left( 1- \\beta \\right)^n e^{-f_{SD}\\beta\\mu(1-p_V)}\\left( \\frac{n}{1-f_{SD}\\beta} +  \\mu(1-p_V) \\right) $$ \n",
    "\n",
    "The solution for 1 proton tag is:\n",
    "\n",
    "$$ P(1|n_{vtx}) =  \\left( 1- \\beta_{V}\\right)^{n-1} e^{-\\alpha}\\left( \\beta_{V} n + (1-\\beta_V)\\alpha \\right) $$ \n",
    "\n",
    "the generat solution is:\n",
    "\n",
    "$$ P_B(p|n_{vtx}) = \\left( 1- \\beta_{V}\\right)^{n-p} \\left( \\sum_{k=0}^{p} \\binom{p}{k} \\beta_V^k  (1-\\beta_V)^{p-k} \\frac{\\alpha^{p-k}}{(p-k)!}e^{-\\alpha} \\right) $$ \n",
    "\n",
    "\n",
    "where $\\beta_{V} = f_{SD}\\beta\\cdot p_V^D/p_V$,  $\\alpha = f_{SD}\\beta(1-p_{V}^{D})\\mu$ and $p_{V} = f_{SD}p_{V}^{D} + (1-f_{SD})p_{V}^{ND}$\n",
    "\n",
    "For processes with diffractive hard scattering with ard proton acceptance of $\\varepsilon_S$, the general probability is given by:\n",
    "$$ P_S(p|n_{vtx}) =\\varepsilon_S P_B(p-1|n_{vtx}) + (1-\\varepsilon_S)P_B(p|n_{vtx}) $$ \n",
    "\n",
    "\n",
    "Combining signal with background process, with diffractive fraction $R_{SD}$ the full expression for signal + background events:\n",
    "\n",
    "$$ P(p|n_{vtx}) = R_{SD}P_S(p|n_{vtx})+(1-R_{SD})P_B(p|n_{vtx}) = \\varepsilon_S R_{SD} P_B(p-1|n_{vtx}) + (1-\\varepsilon_S R_{SD})P_B(p|n_{vtx})$$ \n"
   ]
  },
  {
   "cell_type": "code",
   "execution_count": 20,
   "id": "08f718d6",
   "metadata": {},
   "outputs": [],
   "source": [
    "def Prob(p, n, pvd, pvnd, beta, fSD, mu):\n",
    "    # probability to measure p proton givens measured n vertices\n",
    "    \n",
    "    pv = fSD*pvd + (1-fSD)*pvnd\n",
    "    betaV = beta*fSD*pvd / pv\n",
    "    alpha = mu*(1-pvd)*beta*fSD\n",
    "    \n",
    "    out_k= 0; \n",
    "    fact_k = np.power(1-betaV,n-p)*np.exp(-alpha)\n",
    "    for k in range(p+1):\n",
    "        out_k+= comb(n,k)*np.power(betaV,k)*np.power(1-betaV,p-k)*np.power(alpha,p-k)/math.factorial(p-k)\n",
    "        \n",
    "    return out_k*fact_k"
   ]
  },
  {
   "cell_type": "markdown",
   "id": "06537149",
   "metadata": {},
   "source": [
    "### Model validation"
   ]
  },
  {
   "cell_type": "code",
   "execution_count": 21,
   "id": "a791d0a9",
   "metadata": {
    "scrolled": true
   },
   "outputs": [
    {
     "data": {
      "image/png": "[encoded data removed]",
      "text/plain": [
       "<Figure size 504x360 with 1 Axes>"
      ]
     },
     "metadata": {
      "needs_background": "light"
     },
     "output_type": "display_data"
    }
   ],
   "source": [
    "#plot ptoron tag rate vs number of vertices and the function\n",
    "\n",
    "f, ax = plt.subplots(figsize=(7,5))\n",
    "results[2].plot(x='x',y='mean',xerr='xerr',yerr='sem',linestyle='none',capsize=0,color='black',label='Toys (data)',ax=ax)\n",
    "x = np.linspace(0,10,11); \n",
    "y = [Prob(1, int(_n),pvd=pV_D, pvnd=pV_ND, beta=beta, fSD=fSD, mu=mu) for _n in x]\n",
    "plt.errorbar(x=x,y=y,xerr=0.5,label='Stat model',linestyle='none',color='magenta')\n",
    "ax.set(xlabel='Number of vertices', ylabel='proton tag rate of entries')\n",
    "ax.legend(loc=2)\n",
    "plt.show()\n",
    "\n",
    "\n"
   ]
  },
  {
   "cell_type": "code",
   "execution_count": null,
   "id": "2e0611ef",
   "metadata": {},
   "outputs": [],
   "source": []
  }
 ],
 "metadata": {
  "kernelspec": {
   "display_name": "Python 3",
   "language": "python",
   "name": "python3"
  },
  "language_info": {
   "codemirror_mode": {
    "name": "ipython",
    "version": 3
   },
   "file_extension": ".py",
   "mimetype": "text/x-python",
   "name": "python",
   "nbconvert_exporter": "python",
   "pygments_lexer": "ipython3",
   "version": "3.9.6"
  }
 },
 "nbformat": 4,
 "nbformat_minor": 5
}
