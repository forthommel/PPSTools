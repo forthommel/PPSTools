{
 "cells": [
  {
   "cell_type": "code",
   "execution_count": 1,
   "id": "7ce5ce3f",
   "metadata": {
    "scrolled": true
   },
   "outputs": [],
   "source": [
    "import matplotlib.pyplot as plt\n",
    "import numpy as np\n",
    "from scipy.stats import poisson, binom\n",
    "from numpy import random\n",
    "import mplhep as hep\n",
    "import pandas as pd\n",
    "import uproot3\n",
    "import timeit\n",
    "import seaborn as sns\n",
    "from tqdm import tqdm\n",
    "import math"
   ]
  },
  {
   "cell_type": "code",
   "execution_count": 26,
   "id": "f071bf5e",
   "metadata": {},
   "outputs": [],
   "source": [
    "def GenerateDataset(Nevents, mu, fSD=0.3, pV_ND = 0.9, pV_D = 0.6, p_pps = 0.05):\n",
    "    start = timeit.default_timer()\n",
    "    nVtx=np.zeros(Nevents, dtype=np.uint32)\n",
    "    nProtons=np.zeros(Nevents, dtype=np.uint32)\n",
    "    Nint = random.poisson(mu,Nevents);\n",
    "\n",
    "    for i in tqdm(range(Nevents)): #loop over all events\n",
    "        random_numbers = random.rand(Nint[i]*4)\n",
    "        for j in range(Nint[i]): # loop over all interactions in event\n",
    "            #check collision type:\n",
    "            if random_numbers[4*j+0] > fSD:\n",
    "                #this is a non diffractive event\n",
    "                if random_numbers[4*j+1] < pV_ND: \n",
    "                    nVtx[i]+=1\n",
    "            else:\n",
    "                #this is a diffractive event\n",
    "                if random_numbers[4*j+2] < pV_D: \n",
    "                    nVtx[i]+=1\n",
    "                if random_numbers[4*j+3] < p_pps: \n",
    "                    nProtons[i]+=1\n",
    "        if nProtons[i]>1: nProtons[i]=0\n",
    "    stop = timeit.default_timer()\n",
    "    print('probability for PU proton in collision',fSD*p_pps)\n",
    "    print('probability to form a vertex in collision',fSD*pV_D+(1-fSD)*pV_ND)\n",
    "    print('Time: %2.2fsec for %d events'%(stop - start,Nevents))\n",
    "    d = {'nvtx': nVtx, 'nprotons': nProtons, 'nint': Nint}\n",
    "    return pd.DataFrame(data=d)"
   ]
  },
  {
   "cell_type": "code",
   "execution_count": 3,
   "id": "654d940e",
   "metadata": {},
   "outputs": [],
   "source": [
    "def GenerateDataset2(Nevents, mu, beta=0.015, pv = 0.75):\n",
    "    start = timeit.default_timer()\n",
    "    nVtx=np.zeros(Nevents, dtype=np.uint32)\n",
    "    nProtons=np.zeros(Nevents, dtype=np.uint32)\n",
    "    Nint = random.poisson(mu,Nevents);\n",
    "\n",
    "    for i in tqdm(range(Nevents)):\n",
    "        nVtx[i]=np.sum(random.rand(Nint[i])<pv)\n",
    "        nProtons[i]=np.sum(random.rand(Nint[i])<beta)\n",
    "        if nProtons[i]>1: nProtons[i]=0\n",
    "            \n",
    "    stop = timeit.default_timer()\n",
    "    print('probability for PU proton in collision',beta)\n",
    "    print('probability to form a vertex in collision',pv)\n",
    "    print('Time: %2.2fsec for %d events'%(stop - start,Nevents))\n",
    "    d = {'nvtx': nVtx, 'nprotons': nProtons, 'nint': Nint}\n",
    "    return pd.DataFrame(data=d)"
   ]
  },
  {
   "cell_type": "markdown",
   "id": "8b980a9a",
   "metadata": {},
   "source": [
    "# Generation of toys"
   ]
  },
  {
   "cell_type": "code",
   "execution_count": 91,
   "id": "209ea06c",
   "metadata": {
    "scrolled": false
   },
   "outputs": [
    {
     "name": "stdout",
     "output_type": "stream",
     "text": [
      "Time: 103.86sec for 10000000 events\n"
     ]
    }
   ],
   "source": [
    "Nevents = 10000000 # number of evnets\n",
    "mu = 3 #number of additional interactions\n",
    "\n",
    "#probability of ND event\n",
    "p_ND=0.7\n",
    "#probability of vertex in Diffractive and ND events\n",
    "pV_D = 0.6\n",
    "pV_ND = 0.9\n",
    "#probability of PU proton in PPS acceptance from Diffractive event\n",
    "p_pps = 0.05\n",
    "print('probability for PU proton in collision',(1-p_ND)*p_pps)\n",
    "\n",
    "#generation of events:\n",
    "start = timeit.default_timer()\n",
    "nVtx=np.ones(Nevents, dtype=np.uint32)\n",
    "nProtons=np.zeros(Nevents, dtype=np.uint32)\n",
    "Nint = random.poisson(mu,Nevents);\n",
    "\n",
    "for i, n in enumerate(Nint):\n",
    "    random_numbers = random.rand(n*4)\n",
    "    for j in range(n):\n",
    "        #collision type:\n",
    "        if random_numbers[4*j+0] < p_ND:\n",
    "            #non diffractive event\n",
    "            if random_numbers[4*j+1] < pV_ND: \n",
    "                nVtx[i]+=1\n",
    "        else:\n",
    "            #diffractive event\n",
    "            if random_numbers[4*j+2] < pV_D: \n",
    "                nVtx[i]+=1\n",
    "            if random_numbers[4*j+3] < p_pps: \n",
    "                nProtons[i]+=1\n",
    "    if nProtons[i]>1: nProtons[i]=0\n",
    "stop = timeit.default_timer()\n",
    "print('Time: %2.2fsec for %d events'%(stop - start,Nevents))\n",
    "\n",
    "#create dataframe:\n",
    "d = {'nvtx': nVtx, 'nprotons': nProtons, 'nint': Nint+1}\n",
    "df = pd.DataFrame(data=d)"
   ]
  },
  {
   "cell_type": "markdown",
   "id": "65b3e10a",
   "metadata": {},
   "source": [
    "# Generate from function"
   ]
  },
  {
   "cell_type": "code",
   "execution_count": 27,
   "id": "49909c82",
   "metadata": {
    "scrolled": true
   },
   "outputs": [
    {
     "name": "stderr",
     "output_type": "stream",
     "text": [
      "100%|█████████████████████████████████████████████████████████████████████| 1000000/1000000 [00:41<00:00, 24375.07it/s]"
     ]
    },
    {
     "name": "stdout",
     "output_type": "stream",
     "text": [
      "probability for PU proton in collision 0.015\n",
      "probability to form a vertex in collision 0.75\n",
      "Time: 41.17sec for 1000000 events\n"
     ]
    },
    {
     "name": "stderr",
     "output_type": "stream",
     "text": [
      "\n"
     ]
    }
   ],
   "source": [
    "N = 1000000; mu = 3; fSD=0.25; pV_ND = 8/9; pV_D = 1/3;  p_pps = 0.06;\n",
    "df1=GenerateDataset(N, mu=mu, fSD = fSD, pV_D = pV_D, pV_ND = pV_ND, p_pps = p_pps)"
   ]
  },
  {
   "cell_type": "code",
   "execution_count": 5,
   "id": "26d1bab0",
   "metadata": {
    "scrolled": true
   },
   "outputs": [
    {
     "name": "stderr",
     "output_type": "stream",
     "text": [
      "100%|█████████████████████████████████████████████████████████████████████| 1000000/1000000 [00:53<00:00, 18614.65it/s]"
     ]
    },
    {
     "name": "stdout",
     "output_type": "stream",
     "text": [
      "probability for PU proton in collision 0.015\n",
      "probability to form a vertex in collision 0.75\n",
      "Time: 53.85sec for 1000000 events\n"
     ]
    },
    {
     "name": "stderr",
     "output_type": "stream",
     "text": [
      "\n"
     ]
    }
   ],
   "source": [
    "N = 1000000; mu = 3; beta=0.015; pv = 0.75\n",
    "df=GenerateDataset2(N, mu=mu,beta=beta, pv = pv)"
   ]
  },
  {
   "cell_type": "code",
   "execution_count": 228,
   "id": "9b362592",
   "metadata": {},
   "outputs": [
    {
     "name": "stdout",
     "output_type": "stream",
     "text": [
      "0.09289899943563318 0.08292473682015597\n"
     ]
    }
   ],
   "source": [
    "\n",
    "print(df[df['nvtx']==6]['nprotons'].mean(),df1[df1['nint']==6]['nprotons'].mean())"
   ]
  },
  {
   "cell_type": "code",
   "execution_count": 229,
   "id": "5bc8e5c9",
   "metadata": {},
   "outputs": [
    {
     "name": "stdout",
     "output_type": "stream",
     "text": [
      "0.0429375 0.0430674\n"
     ]
    }
   ],
   "source": [
    "print(df['nprotons'].mean(),df1['nprotons'].mean())"
   ]
  },
  {
   "cell_type": "code",
   "execution_count": 6,
   "id": "e3085e03",
   "metadata": {
    "scrolled": true
   },
   "outputs": [
    {
     "data": {
      "image/png": "[encoded data removed]",
      "text/plain": [
       "<Figure size 432x288 with 2 Axes>"
      ]
     },
     "metadata": {
      "needs_background": "light"
     },
     "output_type": "display_data"
    }
   ],
   "source": [
    "f, ax = plt.subplots(1,2)\n",
    "df[['nvtx', 'nint']].plot.hist(bins=np.linspace(0,10,11), alpha=0.5, ax=ax[0], title='simplified');\n",
    "df1[['nvtx', 'nint']].plot.hist(bins=np.linspace(0,10,11), alpha=0.5, ax=ax[1],title='full model');"
   ]
  },
  {
   "cell_type": "markdown",
   "id": "25941572",
   "metadata": {},
   "source": [
    "### Fit of the statistical model\n"
   ]
  },
  {
   "cell_type": "code",
   "execution_count": 13,
   "id": "9efdbee1",
   "metadata": {},
   "outputs": [],
   "source": [
    "#anal expression of the model will go here\n",
    "def Pn(_n, pvd, pvnd, beta_D, mu, fd):\n",
    "    y=np.zeros(len(_n))\n",
    "    pv=fd*pvd+(1-fd)*pvnd\n",
    "    beta=beta_D*fd\n",
    "    #print('beta=%f, pv=%f'%(beta,pv))\n",
    "    p0d = (1-pvd)\n",
    "    p0nd = (1-pvnd)\n",
    "    for i, n in enumerate(_n):\n",
    "        if n==0: y[i] = mu*beta*p0d*np.exp(-mu*p0d*beta)\n",
    "        elif n==1: y[i] = mu*beta*(pvd + mu*p0d*(fd-beta+(1-fd)*pvnd))/(pv)*np.exp(-mu*p0d*beta)\n",
    "        elif n==2: y[i] = beta*(p0nd*pvd+p0d*pvnd)/pv/p0nd*np.exp(-mu*p0d*beta)\n",
    "        else: y[i] = 0\n",
    "    return y"
   ]
  },
  {
   "cell_type": "code",
   "execution_count": 285,
   "id": "1a8792e0",
   "metadata": {},
   "outputs": [],
   "source": [
    "#make profile\n",
    "_df=df1\n",
    "binned = _df[_df['nvtx']<11].groupby('nvtx')\n",
    "result = binned['nprotons'].agg(['mean','sem'])\n",
    "result['x']=np.linspace(0,max(binned.groups.keys()),max(binned.groups.keys())+1)\n",
    "result['xerr']=0.5"
   ]
  },
  {
   "cell_type": "code",
   "execution_count": 302,
   "id": "08f718d6",
   "metadata": {},
   "outputs": [],
   "source": [
    "def Prob(n,pvd,pvnd,beta_D,fd,mu):\n",
    "    # pribability to measyre 1 proton given measured n vertices\n",
    "    \n",
    "    pv = fd*pvd + (1-fd)*pvnd\n",
    "    beta = beta_D*fd\n",
    "    fb = pvd / pv * beta\n",
    "    alpha = mu*(1-pvd)*beta\n",
    "    \n",
    "    return fb*np.power(1-fb,n-1)*np.exp(-alpha)*(n+alpha*(1-fb)/fb)"
   ]
  },
  {
   "cell_type": "code",
   "execution_count": 303,
   "id": "a791d0a9",
   "metadata": {
    "scrolled": true
   },
   "outputs": [
    {
     "data": {
      "image/png": "[encoded data removed]",
      "text/plain": [
       "<Figure size 432x288 with 1 Axes>"
      ]
     },
     "metadata": {
      "needs_background": "light"
     },
     "output_type": "display_data"
    }
   ],
   "source": [
    "#plot ptoron tag rate vs number of vertices and the function\n",
    "f, ax = plt.subplots()\n",
    "result.plot(x='x',y='mean',xerr='xerr',yerr='sem',linestyle='none',capsize=0,color='black',label='data',ax=ax)\n",
    "ax.set(xlabel='Number of vertices', ylabel='proton tag rate of entries')\n",
    "#beta = p_pps*(1-p_ND); pv =(p_ND*pV_ND+(1-p_ND)*pV_D); p0 = mu*(1 - pv)\n",
    "beta = 0.015; p0 = 0.75\n",
    "x = np.linspace(0,10,11); \n",
    "#yn = beta*np.power(1-beta,x-1)*np.exp(-beta*p0)*(x+(1-beta)*p0)\n",
    "ynf = [P1(int(_n),pvd=pV_D, pvnd=pV_ND, beta_D=p_pps,fd=(1-p_ND),mu=mu) for _n in x]\n",
    "ynnd = [Prob(int(_n),pvd=pV_D, pvnd=pV_ND, beta_D=p_pps,fd=(1-p_ND),mu=mu) for _n in x]\n",
    "\n",
    "#yk = x*beta*np.power(1-beta,x-1)\n",
    "plt.errorbar(x=x,y=ynf,xerr=0.5,label='exact (using sums)',linestyle='none',color='blue')\n",
    "plt.errorbar(x=x,y=ynnd,xerr=0.5,label='develop nd ',linestyle='none',color='magenta')\n",
    "ax.legend(loc=2)\n",
    "plt.show()\n"
   ]
  },
  {
   "cell_type": "code",
   "execution_count": null,
   "id": "29f47668",
   "metadata": {},
   "outputs": [],
   "source": []
  },
  {
   "cell_type": "code",
   "execution_count": null,
   "id": "6ff19e48",
   "metadata": {},
   "outputs": [],
   "source": [
    "N = 10000000; mu = 30; p_ND=0.75; pV_ND = 8/9; pV_D = 1/3;  p_pps = 0.06;"
   ]
  },
  {
   "cell_type": "code",
   "execution_count": 281,
   "id": "1c4e32e3",
   "metadata": {},
   "outputs": [
    {
     "name": "stdout",
     "output_type": "stream",
     "text": [
      "probability for PU proton in collision 0.015\n",
      "probability to form a vertex in collision 0.75\n",
      "fitted fbeta =  0.006666666666666665\n",
      "fitted pvd/pv =  0.4444444444444444\n",
      "alpha =  20.000000000000004\n"
     ]
    }
   ],
   "source": [
    "print('probability for PU proton in collision',(1-p_ND)*p_pps)\n",
    "print('probability to form a vertex in collision',p_ND*pV_ND+(1-p_ND)*pV_D)\n",
    "print('fitted fbeta = ',(1-p_ND)*p_pps*pV_D/(p_ND*pV_ND+(1-p_ND)*pV_D))\n",
    "print('fitted pvd/pv = ',pV_D/(p_ND*pV_ND+(1-p_ND)*pV_D))\n",
    "print('alpha = ',mu*(1-pV_D))\n"
   ]
  },
  {
   "cell_type": "markdown",
   "id": "24f58f54",
   "metadata": {},
   "source": [
    "### save as a root file"
   ]
  },
  {
   "cell_type": "code",
   "execution_count": 271,
   "id": "a73e4e0a",
   "metadata": {},
   "outputs": [
    {
     "name": "stderr",
     "output_type": "stream",
     "text": [
      "100%|███████████████████████████████████████████████████████████████████| 10000000/10000000 [11:23<00:00, 14624.94it/s]"
     ]
    },
    {
     "name": "stdout",
     "output_type": "stream",
     "text": [
      "probability for PU proton in collision 0.015\n",
      "probability to form a vertex in collision 0.75\n",
      "Time: 684.40sec for 10000000 events\n"
     ]
    },
    {
     "name": "stderr",
     "output_type": "stream",
     "text": [
      "\n"
     ]
    }
   ],
   "source": [
    "N = 10000000; mu = 30; p_ND=0.75; pV_ND = 8/9; pV_D = 1/3;  p_pps = 0.06;\n",
    "df1=GenerateDataset(N ,mu = mu, p_ND=p_ND, pV_D = pV_D, pV_ND = pV_ND, p_pps = p_pps)"
   ]
  },
  {
   "cell_type": "code",
   "execution_count": 4,
   "id": "7a9f9a38",
   "metadata": {},
   "outputs": [],
   "source": [
    "#save as a root file\n",
    "df=df1\n",
    "with uproot3.recreate(\"toys.root\") as f:\n",
    "    f[\"Events\"] = uproot3.newtree({\"nvtx\": \"int32\", \"nProtons\": \"int32\", \"nint\": \"int32\"})\n",
    "    f[\"Events\"].extend({\"nvtx\": df['nvtx'], \"nProtons\": df['nprotons'], \"nint\": df['nint']})"
   ]
  },
  {
   "cell_type": "markdown",
   "id": "5780ccbc",
   "metadata": {},
   "source": [
    "### Stat model\n",
    "\n",
    "Probability to measure a single proton vs number of additional vertices is given by:\n",
    "$$ P(1|n_{vtx}) = f(n_{vtx}, f_{D}, \\beta_{D}, p_{pv}^{D}, p_{pv}^{ND}) $$\n",
    "\n",
    "Where $f_{D}$ is the fraction of diffractive interactions with $\\beta_{D}$ the probability to observed a tagged proton in a diffractive interaction, $p_{pv}^{D}$ and $p_{pv}^{ND}$ are the probability to recontruct a vertex from diffractive or non-diffracgive interaction respectively.  \n",
    "\n",
    "To derive the formula we define a set of orthogonal event selections $(k,k_d)$, where $k$ is the number of additional interactions where $k_d$ and $k-k_d$ are diffractive and non-diffractive respectively. Then the probability can be rewriten as:\n",
    "$$ P(1|n_{vtx}) = P(1 \\text{ and } n_{vtx} ) / P(n_{vtx}) = \\Sigma_{k,k_d} P(1 \\text{ and } n_{vtx} | k,k_d)  P(k,k_d) / P(n_{vtx}) $$\n",
    "\n",
    "Since number of vertices and number of protons depends only on the type of the interactions, then this breakdown insure unconditionality: \n",
    "$$ P(1 \\text{ and } n_{vtx} | k,k_d) = P(1| k,k_d) \\cdot P( n_{vtx} | k,k_d) $$,\n",
    "\n",
    "then the probabilty will be of a form of:\n",
    "\n",
    "$$ P(1|n_{vtx}) = \\Sigma_{k,k_d} \\left( P(1| k,k_d) \\cdot P( n_{vtx} | k,k_d) \\right) P(k,k_d) / P(n_{vtx}) $$\n",
    "\n",
    "\n",
    "Let's derive the two expressions, the probability to observe event with $p$ protons:\n",
    "\n",
    "$$ P( p | k,k_d) = \\binom{k_d}{p} \\cdot \\beta_D^{p}\\left( 1 - \\beta_D\\right)^{k_d-p} $$  \n",
    "\n",
    "For $p\\leq k_d$, and in particular for $p=1$:\n",
    "\n",
    "$$ P( 1 | k,k_d) = k_d\\beta_D\\left( 1 - \\beta_D\\right)^{k_d-1}$$  \n",
    "\n",
    "Probability for $k$ interactions with $k_d$ diffractive:\n",
    "\n",
    "$$P(k,k_d) = \\frac{\\mu^k e^{-\\mu}}{k!} \\cdot \\binom{k}{k_d} \\cdot f_D ^ {k_d} \\left( 1- f_D \\right) ^ {k - k_d}$$\n",
    "\n",
    "\n",
    "Probability for number of vertices:\n",
    "$$ P(n_{vtx}) = \\frac{\\left(p_V\\mu\\right)^{n_{vtx}} e^{-p_V\\mu}}{n_{vtx}!} $$ \n",
    "\n",
    "When $p_V^{ND} = p_V^{D} = p_V $ we obtain:\n",
    "\n",
    "$$ P(1|n_{vtx}) = \\beta \\left( 1- \\beta \\right)^n e^{-\\beta\\mu(1-p_V)}\\left( \\frac{n}{1-\\beta} +  \\mu(1-p_V) \\right) $$ \n",
    "\n",
    "The general soluation is:\n",
    "\n",
    "$$ P(1|n_{vtx}) = \\beta \\left( 1- \\beta f_{pvd}\\right)^n e^{-\\beta\\mu(1-p_V)}\\left( \\frac{n\\times f_{pvd}}{1-\\beta f_{pvd}} +  \\mu(1-p_V) \\right) $$ \n",
    "\n",
    "where $f_{pvd} = p_V^D/p_V$"
   ]
  },
  {
   "cell_type": "code",
   "execution_count": 244,
   "id": "be81d1a7",
   "metadata": {},
   "outputs": [],
   "source": [
    "def P_proton(p,kd,beta_D):\n",
    "    # P( p | k, kd ) - probability to measure p protons given kd diffractive interactions\n",
    "    return math.comb(kd, p)*np.power(beta_D,p)*np.power(1-beta_D,kd-p)\n",
    "\n",
    "def P_n_nd(n,k,kd,pvd,pvnd,nd):\n",
    "    # P( n | k, kd , nd ) - probability to measure n vertices given (k,kd) interactions and nd diff. vertices\n",
    "    if nd < np.max([0,n+kd-k]): return 0\n",
    "    if nd > np.min([n,kd+1]): return 0\n",
    "    p1=math.comb(kd, nd)*np.power(pvd,nd)*np.power(1-pvd,kd-nd)\n",
    "    p2=math.comb(k-kd, n-nd)*np.power(pvnd,n-nd)*np.power(1-pvnd,k-kd-n+nd)        \n",
    "    return p1*p2\n",
    "\n",
    "def P_n(n,k,kd,pvd,pvnd):\n",
    "    # P( n | k, kd ) - probability to measure n vertices given (k,kd) interactions\n",
    "    out=0\n",
    "    #print('calculate P(n|k,kd) limit nd in range',np.max([0,n+kd-k]),np.min([n,kd+1])+1)\n",
    "    for nd in range(np.max([0,n+kd-k]),np.min([n,kd+1])+1):\n",
    "        out=out+P_n_nd(n,k,kd,pvd,pvnd,nd)\n",
    "    return out\n",
    "\n",
    "def Pk(k,kd,mu,fd):\n",
    "    # P ( k, kd ) probability to have k interactions with kd diffractive ones\n",
    "    return np.power(mu,k)*np.exp(-mu)/math.factorial(k)*math.comb(k, kd)*np.power(fd,kd)*np.power(1-fd,k-kd)\n",
    "\n",
    "def P(n,pvd,pvnd,fd,mu):\n",
    "    # probability to measure n vertiecs\n",
    "    pv = fd*pvd + (1-fd)*pvnd\n",
    "    nv = mu*pv\n",
    "    #print('calculate vertex probability with <n>=',nv)\n",
    "    return np.power(nv,n)*np.exp(-nv)/math.factorial(n)\n",
    "\n",
    "def P1(n,pvd,pvnd,beta_D,fd,mu):\n",
    "    # pribability to measyre 1 proton given measured n vertices\n",
    "    out= 0; #1/P(n,pvd,pvnd,fd,mu)\n",
    "    for k in range(n,80+1):\n",
    "        for kd in range(0,k+1):\n",
    "            out=out+P_proton(1,kd,beta_D)*P_n(n,k,kd,pvd,pvnd)*Pk(k,kd,mu,fd)\n",
    "    return out/P(n,pvd,pvnd,fd,mu)\n",
    "\n",
    "def Prob(p, n,pvd,pvnd,beta_D,fd,mu):\n",
    "    # pribability to measyre 1 proton given measured n vertices\n",
    "    out= 0; #1/P(n,pvd,pvnd,fd,mu)\n",
    "    for k in range(n,80+1):\n",
    "        for kd in range(0,k+1):\n",
    "            for nd in range(np.max([0,n+kd-k]),np.min([n,kd+1])+1):\n",
    "                out=out+P_proton(p,kd,beta_D)*P_n_nd(n,k,kd,pvd,pvnd,nd)*Pk(k,kd,mu,fd)\n",
    "    return out/P(n,pvd,pvnd,fd,mu)\n",
    "\n",
    "\n"
   ]
  },
  {
   "cell_type": "code",
   "execution_count": 18,
   "id": "a4631eef",
   "metadata": {},
   "outputs": [],
   "source": []
  },
  {
   "cell_type": "code",
   "execution_count": null,
   "id": "a0b712e9",
   "metadata": {},
   "outputs": [],
   "source": [
    " mu = 3; p_ND=0.75; pV_ND = 8/9; pV_D = 1/3;  p_pps = 0.06;"
   ]
  },
  {
   "cell_type": "code",
   "execution_count": null,
   "id": "e92515cc",
   "metadata": {},
   "outputs": [],
   "source": [
    "# beta_D=p_pps,  pvd=pV_D, pvnd=pV_ND, fd=(1-p_ND), mu=mu"
   ]
  },
  {
   "cell_type": "code",
   "execution_count": null,
   "id": "213b8acf",
   "metadata": {
    "scrolled": true
   },
   "outputs": [],
   "source": [
    "n = range(10)\n",
    "anal=Pn(n, pvd=pV_D, pvnd=pV_ND, beta_D=p_pps, mu=mu, fd=(1-p_ND))\n",
    "for i, _n in enumerate(n):\n",
    "    function=P1(_n,pvd=pV_D, pvnd=pV_ND, beta_D=p_pps,fd=(1-p_ND),mu=mu)\n",
    "    code=0\n",
    "    for k in range(_n,30):\n",
    "        for kd in range(0,k+1):\n",
    "            code=code+P_proton(1,kd,beta_D=p_pps)*P_n(_n,k,kd,pvd=pV_D, pvnd=pV_ND)*Pk(k,kd,mu=mu,fd=(1-p_ND))\n",
    "    code/=P(_n,pvd=pV_D, pvnd=pV_ND, fd=(1-p_ND), mu=mu)\n",
    "    print('n=%d anal = %f, code = %f, function = %f, sim = %f'%(_n,anal[i],code,function, result['mean'].values[i]))"
   ]
  },
  {
   "cell_type": "markdown",
   "id": "383ac6dd",
   "metadata": {},
   "source": [
    "### Solving for different $n_d$\n",
    "\n"
   ]
  },
  {
   "cell_type": "code",
   "execution_count": 58,
   "id": "b82c8cce",
   "metadata": {},
   "outputs": [],
   "source": [
    "def P1_break_nd(n,pvd,pvnd,beta_D,fd,mu, nd):\n",
    "    # pribability to measyre 1 proton given measured n vertices\n",
    "    out= 0;\n",
    "    for k in range(n,10+1):\n",
    "        for kd in range(1,k+1):\n",
    "#            for nd in range(np.max([0,n+kd-k]),np.min([n,kd+1])+1):\n",
    "            out=out+P_proton(1,kd,beta_D)*P_n_nd(n,k,kd,pvd,pvnd,nd)*Pk(k,kd,mu,fd)\n",
    "    return out/P(n,pvd,pvnd,fd,mu)"
   ]
  },
  {
   "cell_type": "code",
   "execution_count": null,
   "id": "5e2b2a32",
   "metadata": {},
   "outputs": [],
   "source": []
  },
  {
   "cell_type": "code",
   "execution_count": 257,
   "id": "3e36cd51",
   "metadata": {
    "scrolled": true
   },
   "outputs": [
    {
     "name": "stdout",
     "output_type": "stream",
     "text": [
      "n=0, real = 0.029113, deval = 0.029113\n",
      "n=1, real = 0.035389, deval = 0.035389\n",
      "n=2, real = 0.041579, deval = 0.041579\n",
      "n=3, real = 0.047686, deval = 0.047686\n",
      "n=4, real = 0.053709, deval = 0.053709\n",
      "n=5, real = 0.059650, deval = 0.059650\n",
      "n=6, real = 0.065509, deval = 0.065509\n",
      "n=7, real = 0.071287, deval = 0.071287\n",
      "n=8, real = 0.076986, deval = 0.076986\n",
      "n=9, real = 0.082605, deval = 0.082605\n",
      "n=10, real = 0.088146, deval = 0.088146\n",
      "n=11, real = 0.093610, deval = 0.093610\n",
      "n=12, real = 0.098996, deval = 0.098996\n",
      "n=13, real = 0.104303, deval = 0.104307\n",
      "n=14, real = 0.109504, deval = 0.109542\n",
      "n=15, real = 0.114414, deval = 0.114703\n",
      "n=16, real = 0.117977, deval = 0.119791\n",
      "n=17, real = 0.115749, deval = 0.124805\n",
      "n=18, real = 0.095645, deval = 0.129747\n",
      "n=19, real = 0.045634, deval = 0.134618\n"
     ]
    }
   ],
   "source": [
    "def Prob(p, n,pvd,pvnd,beta_D,fd,mu):\n",
    "    # pribability to measyre 1 proton given measured n vertices\n",
    "    \n",
    "    pv = fd*pvd + (1-fd)*pvnd\n",
    "    beta = beta_D*fd\n",
    "    fvd = pvd / pv\n",
    "    \n",
    "    return beta*np.power(1-beta*fvd,n)*np.exp(-mu*beta*(1-pvd))*(n*fvd/(1-beta*fvd)+(1-pvd)*mu)\n",
    "\n",
    "\n",
    "for _n in range(20):\n",
    "    real=P1(int(_n),pvd=pV_D, pvnd=pV_ND, beta_D=p_pps,fd=(1-p_ND),mu=mu)\n",
    "    deval=Prob(1, int(_n),pvd=pV_D, pvnd=pV_ND, beta_D=p_pps,fd=(1-p_ND),mu=mu)\n",
    "    print('n=%d, real = %f, deval = %f'%(_n,real,deval))\n",
    "\n"
   ]
  },
  {
   "cell_type": "code",
   "execution_count": 146,
   "id": "0dc9f6bb",
   "metadata": {},
   "outputs": [
    {
     "data": {
      "text/plain": [
       "0"
      ]
     },
     "execution_count": 146,
     "metadata": {},
     "output_type": "execute_result"
    }
   ],
   "source": [
    "math.comb(0, 2)"
   ]
  },
  {
   "cell_type": "code",
   "execution_count": 205,
   "id": "80eaa27e",
   "metadata": {},
   "outputs": [],
   "source": [
    "def Prob2(p, n,pvd,pvnd,beta_D,fd,mu):\n",
    "    # pribability to measyre 1 proton given measured n vertices\n",
    "    \n",
    "    pv = fd*pvd + (1-fd)*pvnd\n",
    "    nv = mu*pv\n",
    "    beta = beta_D*fd\n",
    "    \n",
    "    a=(1-beta_D)*fd*(1-pvd)\n",
    "    b=(1-fd)*(1-pvnd)\n",
    "\n",
    "    out_k= 0; #1/P(n,pvd,pvnd,fd,mu)\n",
    "    p0=np.exp(nv)/(np.power(nv,n)/math.factorial(n))\n",
    "    p0*=np.power(beta,p)*np.exp(-mu)\n",
    "    for k in range(n,80+1):\n",
    "        out_nd=0\n",
    "        fac_k=np.power(mu,k)/math.factorial(k)\n",
    "        for nd in range(0,n+1):\n",
    "            out_kd=0\n",
    "            frac_nd=np.power(pvd,nd)*np.power(pvnd,n-nd)*np.power(1-pvd,p-nd)*np.power(1-fd,n-nd)*np.power(a,nd-p)\n",
    "            frac_nd=frac_nd\n",
    "            for kd in range(np.max([nd,p]),k-n+nd+1):\n",
    "                p1=math.comb(kd, p)\n",
    "                p2_1=math.comb(kd, nd)\n",
    "                p2_2=math.comb(k-kd, n-nd)\n",
    "                p3=1*math.comb(k, kd)\n",
    "                out_kd=out_kd+p1*p2_1*p2_2*p3*np.power(a,kd-nd)*np.power(b,(k-n)-(kd-nd))\n",
    "            out_nd+=out_kd*frac_nd\n",
    "        out_k+=(out_nd)*fac_k\n",
    "    return out_k*p0\n"
   ]
  },
  {
   "cell_type": "code",
   "execution_count": null,
   "id": "37056a3b",
   "metadata": {},
   "outputs": [],
   "source": []
  },
  {
   "cell_type": "code",
   "execution_count": null,
   "id": "111b3eda",
   "metadata": {},
   "outputs": [],
   "source": []
  },
  {
   "cell_type": "code",
   "execution_count": 147,
   "id": "fc94cca0",
   "metadata": {},
   "outputs": [
    {
     "data": {
      "image/png": "[encoded data removed]",
      "text/plain": [
       "<Figure size 432x288 with 1 Axes>"
      ]
     },
     "metadata": {
      "needs_background": "light"
     },
     "output_type": "display_data"
    }
   ],
   "source": [
    "#plot ptoron tag rate vs number of vertices and the function\n",
    "f, ax = plt.subplots()\n",
    "ax.set(xlabel='Number of vertices', ylabel='proton tag rate of entries')\n",
    "x = np.linspace(0,10,11); \n",
    "\n",
    "ynf = [P1(int(_n),pvd=pV_D, pvnd=pV_ND, beta_D=p_pps,fd=(1-p_ND),mu=mu) for _n in x]\n",
    "ynnd = [Prob(1, int(_n),pvd=pV_D, pvnd=pV_ND, beta_D=p_pps,fd=(1-p_ND),mu=mu) for _n in x]\n",
    "\n",
    "#yk = x*beta*np.power(1-beta,x-1)\n",
    "plt.errorbar(x=x,y=ynf,xerr=0.5,label='exact (using sums)',linestyle='none',color='blue')\n",
    "plt.errorbar(x=x,y=ynnd,xerr=0.5,label='develop nd ',linestyle='none',color='magenta')\n",
    "ax.legend(loc=2)\n",
    "plt.show()\n"
   ]
  },
  {
   "cell_type": "code",
   "execution_count": null,
   "id": "49ef695b",
   "metadata": {},
   "outputs": [],
   "source": []
  },
  {
   "cell_type": "code",
   "execution_count": 107,
   "id": "1526f643",
   "metadata": {
    "scrolled": true
   },
   "outputs": [
    {
     "name": "stdout",
     "output_type": "stream",
     "text": [
      "0.004450726794652695\n",
      "0.00012363129985140038\n",
      "0.0013766643589915788\n"
     ]
    },
    {
     "name": "stderr",
     "output_type": "stream",
     "text": [
      "<ipython-input-107-e7e094f03f26>:49: RuntimeWarning: overflow encountered in int_scalars\n",
      "  out_k+=k*np.power(mu,k)/k/math.factorial(k-n)*out_kd\n"
     ]
    }
   ],
   "source": [
    "def P1_break_nd_2(n,pvd,pvnd,beta_D,fd,mu, nd):\n",
    "    # probability to measyre 1 proton given measured n vertices and nd diffractive\n",
    "    beta=beta_D*fd\n",
    "    pv = fd*pvd + (1-fd)*pvnd\n",
    "    nv = mu*pv\n",
    "    a=(1-beta_D)*fd*(1-pvd)\n",
    "    b=(1-fd)*(1-pvnd)\n",
    "    p0= beta*np.exp(-mu)*np.exp(nv)/np.power(nv,n)/math.factorial(n)\n",
    "    p0=p0*np.power(pvnd,n-nd)/np.power(1-pvnd,n-nd)*np.power(pvd,nd)/np.power(1-pvd,nd-1)\n",
    "    p0=p0*math.comb(n, nd)/math.factorial(n)*np.power(a,nd-1)*np.power(b,n-nd)\n",
    "    out_k= 0;\n",
    "    for k in range(n,50+1):\n",
    "        out_kd=0\n",
    "        for kd in range(nd,k+1):\n",
    "            if nd < np.max([0,n+kd-k]): \n",
    "                #print('skip --------------------- kd=%d for k=%d'%(kd,k))\n",
    "                continue\n",
    "            if nd > np.min([n,kd+1]): \n",
    "                #print('skip --------------------- kd=%d for k=%d'%(kd,k))\n",
    "                continue\n",
    "            #out_kd+=math.comb(k-1, kd-1)*math.comb(kd, nd)*math.comb(k-kd, n-nd)*np.power(a,kd-1)*np.power(b,k-kd)\n",
    "            out_kd+=math.comb(k-n, kd-nd)*kd*np.power(a,kd-nd)*np.power(b,k-n-kd+nd)\n",
    "            #math.factorial(k-1)/math.factorial(k-n)*math.comb(n, nd)*math.comb(k-n, kd-nd)\n",
    "        out_k+=k*np.power(mu,k)/k/math.factorial(k-n)*out_kd\n",
    "    return out_k*p0\n",
    "\n",
    "def P1_break_nd_3(n,pvd,pvnd,beta_D,fd,mu, nd):\n",
    "    # pribability to measyre 1 proton given measured n vertices and nd diffractive\n",
    "    beta=beta_D*fd\n",
    "    pv = fd*pvd + (1-fd)*pvnd\n",
    "    nv = mu*pv\n",
    "    out=0\n",
    "    p0= beta*np.exp(-mu)/pv/np.exp(-nv);\n",
    "    for k in range(n,50+1):\n",
    "        p1=np.power(mu,k-1)/math.factorial(k-1)\n",
    "        for kd in range(1,k+1):\n",
    "            out+=p0*p1*np.power(fd*(1-beta_D),kd-1)*np.power(1-fd,k-kd)*P_n_nd(n,k,kd,pvd,pvnd,nd)\n",
    "    return out\n",
    "\n",
    "print(P1_break_nd(3,pvd=pV_D, pvnd=pV_ND, beta_D=p_pps,fd=(1-p_ND),mu=mu, nd=2))\n",
    "print(P1_break_nd_2(3,pvd=pV_D, pvnd=pV_ND, beta_D=p_pps,fd=(1-p_ND),mu=mu, nd=2))\n",
    "print(P1_break_nd_3(3,pvd=pV_D, pvnd=pV_ND, beta_D=p_pps,fd=(1-p_ND),mu=mu, nd=2))"
   ]
  },
  {
   "cell_type": "code",
   "execution_count": 46,
   "id": "3a4fd9c5",
   "metadata": {},
   "outputs": [
    {
     "name": "stdout",
     "output_type": "stream",
     "text": [
      "P(1, n=0):\n",
      "nd =  0  sum+= 0.029113366006455255\n",
      " total =  0.029113366006455255\n",
      "P(1, n=1):\n",
      "nd =  0  sum+= 0.02587854756129356\n",
      "nd =  1  sum+= 0.009510366228775378\n",
      " total =  0.035388913790068935\n",
      "0.007483213336474051\n"
     ]
    }
   ],
   "source": [
    "print('P(1, n=0):')\n",
    "summ=0\n",
    "for nd in range(1):\n",
    "    print('nd = ',nd,' sum+=',P1_break_nd(0,pvd=pV_D, pvnd=pV_ND, beta_D=p_pps,fd=(1-p_ND),mu=mu, nd=nd))\n",
    "    summ+=P1_break_nd(0,pvd=pV_D, pvnd=pV_ND, beta_D=p_pps,fd=(1-p_ND),mu=mu, nd=nd)\n",
    "print(' total = ',summ)\n",
    "\n",
    "\n",
    "print('P(1, n=1):')\n",
    "summ=0\n",
    "for nd in range(2):\n",
    "    print('nd = ',nd,' sum+=',P1_break_nd(1,pvd=pV_D, pvnd=pV_ND, beta_D=p_pps,fd=(1-p_ND),mu=mu, nd=nd))\n",
    "    summ+=P1_break_nd(1,pvd=pV_D, pvnd=pV_ND, beta_D=p_pps,fd=(1-p_ND),mu=mu, nd=nd)\n",
    "print(' total = ',summ)\n",
    "\n",
    "print(calcpart(1,pvd=pV_D, pvnd=pV_ND, beta_D=p_pps, mu=mu, fd=(1-p_ND)))"
   ]
  },
  {
   "cell_type": "code",
   "execution_count": 45,
   "id": "d9461534",
   "metadata": {},
   "outputs": [],
   "source": [
    "def calcpart(_n, pvd, pvnd, beta_D, mu, fd):\n",
    "    pv=fd*pvd+(1-fd)*pvnd\n",
    "    beta=beta_D*fd\n",
    "    p0d = (1-pvd)\n",
    "    p0nd = (1-pvnd)\n",
    "    #y = mu*beta*p0d*np.exp(-mu*p0d*beta)\n",
    "    #y = mu*beta*p0d*(pvnd*(1-fd))/pv*np.exp(-mu*p0d*beta)\n",
    "    y = beta*pvd/pv*(1+mu*(fd-beta)*p0d*pvd)*np.exp(-mu*p0d*beta)\n",
    "    return y\n"
   ]
  },
  {
   "cell_type": "code",
   "execution_count": null,
   "id": "9280cf37",
   "metadata": {},
   "outputs": [],
   "source": []
  },
  {
   "cell_type": "code",
   "execution_count": 148,
   "id": "8ce623e8",
   "metadata": {},
   "outputs": [
    {
     "name": "stdout",
     "output_type": "stream",
     "text": [
      "0.10539922456186433\n",
      "0.11111111111111116\n"
     ]
    }
   ],
   "source": [
    "out=0\n",
    "for k in range(0,20+1):\n",
    "    for kd in range(0,k+1):\n",
    "        out+=P_n(0,k,kd,pvd=pV_D, pvnd=pV_ND)*Pk(k,kd,mu=mu,fd=(1-p_ND))\n",
    "print(out)\n",
    "print(P_n(0,1,0,pvd=pV_D, pvnd=pV_ND))"
   ]
  },
  {
   "cell_type": "code",
   "execution_count": null,
   "id": "221440f6",
   "metadata": {},
   "outputs": [],
   "source": []
  },
  {
   "cell_type": "code",
   "execution_count": 183,
   "id": "73c2f143",
   "metadata": {},
   "outputs": [
    {
     "name": "stdout",
     "output_type": "stream",
     "text": [
      "0.10539922456186433 0.10539922456186433\n",
      "0.23714825526419475 0.23714825526419459\n",
      "0.2667917871722191 0.2667917871722191\n",
      "0.20009384037916433 0.2000938403791643\n",
      "0.11255278521327994 0.1125527852132799\n",
      "0.05064875334597597 0.05064875334597564\n",
      "0.01899328250474099 0.018993282504739063\n",
      "0.0061049836622381745 0.0061049836622265536\n",
      "0.0017170266550044868 0.0017170266549475825\n",
      "0.0004292566637511217 0.0004292566635223521\n",
      "9.658274934400237e-05 9.658274858453731e-05\n",
      "1.975556236581867e-05 1.975556027958648e-05\n",
      "3.7041679435909998e-06 3.7041632079265707e-06\n",
      "6.411059902369038e-07 6.410971499948687e-07\n",
      "1.0303489128807384e-07 1.0302143962317943e-07\n",
      "1.5455233693211076e-08 1.5438778849424702e-08\n",
      "2.1733922381078075e-09 2.1575435000263906e-09\n",
      "2.876548550436804e-10 2.7600326864540517e-10\n",
      "3.595685688046005e-11 2.972342893104364e-11\n",
      "4.258048841107111e-12 2.0113598524766364e-12\n",
      "------------------------------------\n",
      "sum 0.9999999999994639 0.9999999999168554\n"
     ]
    }
   ],
   "source": [
    "def Ptest(n,pvd,pvnd,fd,mu):\n",
    "    out=0\n",
    "    for k in range(0,20):\n",
    "        for kd in range(0,k+1):\n",
    "            out=out+P_n(n,k,kd,pvd,pvnd)*Pk(k,kd,mu,fd)\n",
    "    return out\n",
    "\n",
    "sum1=0\n",
    "sum2=0\n",
    "for n in range(20):\n",
    "    sum1+=P(n,pvd=pV_D, pvnd=pV_ND,fd=(1-p_ND),mu=mu)\n",
    "    sum2+=Ptest(n,pvd=pV_D, pvnd=pV_ND,fd=(1-p_ND),mu=mu)\n",
    "    print(P(n,pvd=pV_D, pvnd=pV_ND,fd=(1-p_ND),mu=mu),Ptest(n,pvd=pV_D, pvnd=pV_ND,fd=(1-p_ND),mu=mu))\n",
    "print('------------------------------------')    \n",
    "print('sum',sum1,sum2)"
   ]
  },
  {
   "cell_type": "code",
   "execution_count": null,
   "id": "2e0611ef",
   "metadata": {},
   "outputs": [],
   "source": []
  }
 ],
 "metadata": {
  "kernelspec": {
   "display_name": "Python 3",
   "language": "python",
   "name": "python3"
  },
  "language_info": {
   "codemirror_mode": {
    "name": "ipython",
    "version": 3
   },
   "file_extension": ".py",
   "mimetype": "text/x-python",
   "name": "python",
   "nbconvert_exporter": "python",
   "pygments_lexer": "ipython3",
   "version": "3.8.8"
  }
 },
 "nbformat": 4,
 "nbformat_minor": 5
}
